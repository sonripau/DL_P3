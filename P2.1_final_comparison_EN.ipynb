{
 "cells": [
  {
   "cell_type": "markdown",
   "id": "cff26310",
   "metadata": {},
   "source": [
    "## Practice 3 DEEP LEARNING\n",
    "### Authors: Paula Biderman Mato & Celia Hermoso Soto\n",
    "### Submission Date: 03 April 2025"
   ]
  },
  {
   "cell_type": "markdown",
   "id": "632436ad",
   "metadata": {},
   "source": [
    "\n",
    "### 1. Data Preparation\n",
    "\n",
    "We used the script provided by the professor to load and preprocess the weekly Walmart sales data.\n",
    "\n",
    "Normalization was applied per store using the mean and standard deviation of the training portion. The dataset was then split into training and test sets, keeping 20% of the data for testing, as specified.\n",
    "\n",
    "Time series sequences were generated with a length of 5 weeks, which allows the model to learn more complex temporal dynamics.\n"
   ]
  },
  {
   "cell_type": "code",
   "execution_count": 3,
   "id": "3190228c",
   "metadata": {},
   "outputs": [],
   "source": [
    "import nbimporter\n",
    "from generateWalmartDataset_professor import generateTrainTestData"
   ]
  },
  {
   "cell_type": "code",
   "execution_count": null,
   "id": "b2b1452a",
   "metadata": {},
   "outputs": [],
   "source": [
    "#pip install nbimporter"
   ]
  },
  {
   "cell_type": "code",
   "execution_count": 9,
   "id": "6d6ac5be-d390-4546-9c3b-d23b94063bd5",
   "metadata": {
    "ExecuteTime": {
     "end_time": "2024-04-11T09:47:22.465205Z",
     "start_time": "2024-04-11T09:47:22.461386Z"
    }
   },
   "outputs": [],
   "source": [
    "from generateWalmartDataset_professor import generateTrainTestData\n",
    "import tensorflow as tf\n",
    "from tensorflow.keras import layers\n",
    "import matplotlib.pyplot as plt\n",
    "import matplotlib.ticker as ticker\n",
    "import numpy as np"
   ]
  },
  {
   "cell_type": "code",
   "execution_count": 12,
   "id": "35d86df5",
   "metadata": {
    "ExecuteTime": {
     "end_time": "2024-04-10T10:48:45.616551Z",
     "start_time": "2024-04-10T10:48:45.614128Z"
    }
   },
   "outputs": [],
   "source": [
    "testPercent = 0.2  # Mantener igual\n",
    "seqLength = 10\n",
    "batchSize = 1\n",
    "trainData, testData,stdSales, nFeatures = generateTrainTestData(\"walmart-sales-dataset-of-45stores.csv\",\n",
    "    testPercent, seqLength, batchSize) "
   ]
  },
  {
   "cell_type": "markdown",
   "id": "21f40694",
   "metadata": {},
   "source": [
    "## Plot Functions\n"
   ]
  },
  {
   "cell_type": "code",
   "execution_count": 15,
   "id": "2f0bd86f",
   "metadata": {},
   "outputs": [],
   "source": [
    "def plot_mae(history, model_name):\n",
    "    fig, axs = plt.subplots(1, 2, figsize=(18, 6))\n",
    "\n",
    "    # MAE (denormalized)\n",
    "    t_mae = [mae * stdSales for mae in history.history[\"mae\"]]\n",
    "    loss = history.history['loss']\n",
    "    epochs = range(1, len(t_mae) + 1)\n",
    "\n",
    "    axs[0].set_title(f'{model_name} - Training MAE')\n",
    "    axs[0].plot(epochs, t_mae, \"b-o\", label=\"Training MAE\")\n",
    "    axs[0].set_xlabel(\"Epochs\")\n",
    "    axs[0].set_ylabel(\"MAE (denormalized)\")\n",
    "    axs[0].grid(True)\n",
    "    axs[0].legend()\n",
    "\n",
    "    axs[1].set_title(f'{model_name} - Training Loss')\n",
    "    axs[1].plot(epochs, loss, \"g-o\", label=\"Training Loss\")\n",
    "    axs[1].set_xlabel(\"Epochs\")\n",
    "    axs[1].set_ylabel(\"Loss\")\n",
    "    axs[1].grid(True)\n",
    "    axs[1].legend()\n",
    "\n",
    "    plt.tight_layout()\n",
    "    plt.show()\n"
   ]
  },
  {
   "cell_type": "markdown",
   "id": "6fdfa4c7",
   "metadata": {},
   "source": [
    "\n",
    "### 2. Model Architectures\n",
    "\n",
    "We designed three different models based on RNNs: LSTM, GRU, and SimpleRNN. These architectures are well-suited to capture temporal dependencies in time series data.\n",
    "\n",
    "Each model has the following structure:\n",
    "- Input reshaping to [sequence length, features]\n",
    "- One recurrent layer (LSTM, GRU, or SimpleRNN)\n",
    "- Dropout layer to prevent overfitting\n",
    "- Dense output layer for weekly sales prediction\n"
   ]
  },
  {
   "cell_type": "markdown",
   "id": "30d58b2f",
   "metadata": {},
   "source": [
    "#### SimpleRNN con RMSprop"
   ]
  },
  {
   "cell_type": "code",
   "execution_count": null,
   "id": "4579c6df",
   "metadata": {},
   "outputs": [
    {
     "name": "stdout",
     "output_type": "stream",
     "text": [
      "Epoch 1/40\n",
      "\u001b[1m4185/4185\u001b[0m \u001b[32m━━━━━━━━━━━━━━━━━━━━\u001b[0m\u001b[37m\u001b[0m \u001b[1m5s\u001b[0m 1ms/step - loss: 0.1934 - mae: 0.2738\n",
      "Epoch 2/40\n",
      "\u001b[1m4185/4185\u001b[0m \u001b[32m━━━━━━━━━━━━━━━━━━━━\u001b[0m\u001b[37m\u001b[0m \u001b[1m6s\u001b[0m 1ms/step - loss: 0.1039 - mae: 0.2023\n",
      "Epoch 3/40\n",
      "\u001b[1m4185/4185\u001b[0m \u001b[32m━━━━━━━━━━━━━━━━━━━━\u001b[0m\u001b[37m\u001b[0m \u001b[1m6s\u001b[0m 1ms/step - loss: 0.0824 - mae: 0.1865\n",
      "Epoch 4/40\n",
      "\u001b[1m4185/4185\u001b[0m \u001b[32m━━━━━━━━━━━━━━━━━━━━\u001b[0m\u001b[37m\u001b[0m \u001b[1m6s\u001b[0m 1ms/step - loss: 0.0621 - mae: 0.1675\n",
      "Epoch 5/40\n",
      "\u001b[1m4185/4185\u001b[0m \u001b[32m━━━━━━━━━━━━━━━━━━━━\u001b[0m\u001b[37m\u001b[0m \u001b[1m6s\u001b[0m 1ms/step - loss: 0.0520 - mae: 0.1552\n",
      "Epoch 6/40\n",
      "\u001b[1m4185/4185\u001b[0m \u001b[32m━━━━━━━━━━━━━━━━━━━━\u001b[0m\u001b[37m\u001b[0m \u001b[1m6s\u001b[0m 1ms/step - loss: 0.0449 - mae: 0.1473\n",
      "Epoch 7/40\n",
      "\u001b[1m4185/4185\u001b[0m \u001b[32m━━━━━━━━━━━━━━━━━━━━\u001b[0m\u001b[37m\u001b[0m \u001b[1m5s\u001b[0m 1ms/step - loss: 0.0430 - mae: 0.1440\n",
      "Epoch 8/40\n",
      "\u001b[1m4185/4185\u001b[0m \u001b[32m━━━━━━━━━━━━━━━━━━━━\u001b[0m\u001b[37m\u001b[0m \u001b[1m6s\u001b[0m 1ms/step - loss: 0.0418 - mae: 0.1441\n",
      "Epoch 9/40\n",
      "\u001b[1m4185/4185\u001b[0m \u001b[32m━━━━━━━━━━━━━━━━━━━━\u001b[0m\u001b[37m\u001b[0m \u001b[1m6s\u001b[0m 1ms/step - loss: 0.0398 - mae: 0.1433\n",
      "Epoch 10/40\n",
      "\u001b[1m4185/4185\u001b[0m \u001b[32m━━━━━━━━━━━━━━━━━━━━\u001b[0m\u001b[37m\u001b[0m \u001b[1m6s\u001b[0m 1ms/step - loss: 0.0375 - mae: 0.1382\n",
      "Epoch 11/40\n",
      "\u001b[1m4185/4185\u001b[0m \u001b[32m━━━━━━━━━━━━━━━━━━━━\u001b[0m\u001b[37m\u001b[0m \u001b[1m6s\u001b[0m 1ms/step - loss: 0.0387 - mae: 0.1386\n",
      "Epoch 12/40\n",
      "\u001b[1m4185/4185\u001b[0m \u001b[32m━━━━━━━━━━━━━━━━━━━━\u001b[0m\u001b[37m\u001b[0m \u001b[1m6s\u001b[0m 2ms/step - loss: 0.0351 - mae: 0.1339\n",
      "Epoch 13/40\n",
      "\u001b[1m4185/4185\u001b[0m \u001b[32m━━━━━━━━━━━━━━━━━━━━\u001b[0m\u001b[37m\u001b[0m \u001b[1m5s\u001b[0m 1ms/step - loss: 0.0353 - mae: 0.1335\n",
      "Epoch 14/40\n",
      "\u001b[1m4185/4185\u001b[0m \u001b[32m━━━━━━━━━━━━━━━━━━━━\u001b[0m\u001b[37m\u001b[0m \u001b[1m6s\u001b[0m 1ms/step - loss: 0.0320 - mae: 0.1293\n",
      "Epoch 15/40\n",
      "\u001b[1m4185/4185\u001b[0m \u001b[32m━━━━━━━━━━━━━━━━━━━━\u001b[0m\u001b[37m\u001b[0m \u001b[1m5s\u001b[0m 1ms/step - loss: 0.0352 - mae: 0.1324\n",
      "Epoch 16/40\n",
      "\u001b[1m4185/4185\u001b[0m \u001b[32m━━━━━━━━━━━━━━━━━━━━\u001b[0m\u001b[37m\u001b[0m \u001b[1m6s\u001b[0m 1ms/step - loss: 0.0354 - mae: 0.1300\n",
      "Epoch 17/40\n",
      "\u001b[1m4185/4185\u001b[0m \u001b[32m━━━━━━━━━━━━━━━━━━━━\u001b[0m\u001b[37m\u001b[0m \u001b[1m6s\u001b[0m 1ms/step - loss: 0.0377 - mae: 0.1314\n",
      "Epoch 18/40\n",
      "\u001b[1m2499/4185\u001b[0m \u001b[32m━━━━━━━━━━━\u001b[0m\u001b[37m━━━━━━━━━\u001b[0m \u001b[1m1s\u001b[0m 1ms/step - loss: 0.0368 - mae: 0.1320"
     ]
    }
   ],
   "source": [
    "from tensorflow.keras import layers, Input, Model\n",
    "from tensorflow.keras.optimizers import RMSprop\n",
    "from tensorflow.keras.callbacks import EarlyStopping\n",
    "\n",
    "inputs = Input(shape=(seqLength, nFeatures))\n",
    "x = layers.SimpleRNN(32)(inputs)\n",
    "outputs = layers.Dense(1)(x)\n",
    "\n",
    "model = Model(inputs, outputs)\n",
    "model.compile(optimizer=RMSprop(), loss='mean_squared_error', metrics=['mae'])\n",
    "\n",
    "history = model.fit(trainData, epochs=40, callbacks=[EarlyStopping(monitor='loss', patience=10)])\n",
    "\n",
    "plot_mae(history, \"SimpleRNN - RMSprop\")\n",
    "\n",
    "loss, mae = model.evaluate(testData)\n",
    "print(f\"MAE (denormalized): {mae * stdSales:.4f}, Loss: {loss:.4f}\")\n"
   ]
  },
  {
   "cell_type": "markdown",
   "id": "14a44eaf",
   "metadata": {},
   "source": [
    "#### SimpleRNN con Adam"
   ]
  },
  {
   "cell_type": "code",
   "execution_count": null,
   "id": "55fd4b45",
   "metadata": {},
   "outputs": [],
   "source": [
    "from tensorflow.keras import layers, Input, Model\n",
    "from tensorflow.keras.optimizers import Adam\n",
    "from tensorflow.keras.callbacks import EarlyStopping\n",
    "\n",
    "inputs = Input(shape=(seqLength, nFeatures))\n",
    "x = layers.SimpleRNN(32)(inputs)\n",
    "outputs = layers.Dense(1)(x)\n",
    "\n",
    "model = Model(inputs, outputs)\n",
    "model.compile(optimizer=Adam(), loss='mean_squared_error', metrics=['mae'])\n",
    "\n",
    "history = model.fit(trainData, epochs=40, callbacks=[EarlyStopping(monitor='loss', patience=10)])\n",
    "\n",
    "plot_mae(history, \"SimpleRNN - Adam\")\n",
    "\n",
    "loss, mae = model.evaluate(testData)\n",
    "print(f\"MAE (denormalized): {mae * stdSales:.4f}, Loss: {loss:.4f}\")\n"
   ]
  },
  {
   "cell_type": "markdown",
   "id": "0f243cd1",
   "metadata": {},
   "source": [
    "#### GRU con RMSprop"
   ]
  },
  {
   "cell_type": "code",
   "execution_count": null,
   "id": "f60ecf40",
   "metadata": {},
   "outputs": [],
   "source": [
    "from tensorflow.keras import layers, Input, Model\n",
    "from tensorflow.keras.optimizers import RMSprop\n",
    "from tensorflow.keras.callbacks import EarlyStopping\n",
    "\n",
    "inputs = Input(shape=(seqLength, nFeatures))\n",
    "x = layers.GRU(32)(inputs)\n",
    "outputs = layers.Dense(1)(x)\n",
    "\n",
    "model = Model(inputs, outputs)\n",
    "model.compile(optimizer=RMSprop(), loss='mean_squared_error', metrics=['mae'])\n",
    "\n",
    "history = model.fit(trainData, epochs=40, callbacks=[EarlyStopping(monitor='loss', patience=10)])\n",
    "\n",
    "plot_mae(history, \"GRU - RMSprop\")\n",
    "\n",
    "loss, mae = model.evaluate(testData)\n",
    "print(f\"MAE (denormalized): {mae * stdSales:.4f}, Loss: {loss:.4f}\")\n"
   ]
  },
  {
   "cell_type": "markdown",
   "id": "afc2e1a8",
   "metadata": {},
   "source": [
    "#### GRU con Adam"
   ]
  },
  {
   "cell_type": "code",
   "execution_count": null,
   "id": "913d6fcc",
   "metadata": {},
   "outputs": [],
   "source": [
    "from tensorflow.keras import layers, Input, Model\n",
    "from tensorflow.keras.optimizers import Adam\n",
    "from tensorflow.keras.callbacks import EarlyStopping\n",
    "\n",
    "inputs = Input(shape=(seqLength, nFeatures))\n",
    "x = layers.GRU(32)(inputs)\n",
    "outputs = layers.Dense(1)(x)\n",
    "\n",
    "model = Model(inputs, outputs)\n",
    "model.compile(optimizer=Adam(), loss='mean_squared_error', metrics=['mae'])\n",
    "\n",
    "history = model.fit(trainData, epochs=40, callbacks=[EarlyStopping(monitor='loss', patience=10)])from tensorflow.keras import layers, Input, Model\n",
    "from tensorflow.keras.optimizers import RMSprop\n",
    "from tensorflow.keras.callbacks import EarlyStopping\n",
    "\n",
    "inputs = Input(shape=(seqLength, nFeatures))\n",
    "x = layers.LSTM(32)(inputs)\n",
    "outputs = layers.Dense(1)(x)\n",
    "\n",
    "model = Model(inputs, outputs)\n",
    "model.compile(optimizer=RMSprop(), loss='mean_squared_error', metrics=['mae'])\n",
    "\n",
    "history = model.fit(trainData, epochs=40, callbacks=[EarlyStopping(monitor='loss', patience=10)])\n",
    "\n",
    "plot_mae(history, \"LSTM - RMSprop\")\n",
    "\n",
    "loss, mae = model.evaluate(testData)\n",
    "print(f\"MAE (denormalized): {mae * stdSales:.4f}, Loss: {loss:.4f}\")\n",
    "\n",
    "\n",
    "plot_mae(history, \"GRU - Adam\")\n",
    "\n",
    "loss, mae = model.evaluate(testData)\n",
    "print(f\"MAE (denormalized): {mae * stdSales:.4f}, Loss: {loss:.4f}\")\n"
   ]
  },
  {
   "cell_type": "markdown",
   "id": "7d4f9899",
   "metadata": {},
   "source": [
    "#### LSTM con Adam"
   ]
  },
  {
   "cell_type": "code",
   "execution_count": null,
   "id": "e864dcf8",
   "metadata": {},
   "outputs": [],
   "source": [
    "from tensorflow.keras import layers, Input, Model\n",
    "from tensorflow.keras.optimizers import Adam\n",
    "from tensorflow.keras.callbacks import EarlyStopping\n",
    "\n",
    "inputs = Input(shape=(seqLength, nFeatures))\n",
    "x = layers.LSTM(32)(inputs)\n",
    "outputs = layers.Dense(1)(x)\n",
    "\n",
    "model = Model(inputs, outputs)\n",
    "model.compile(optimizer=Adam(), loss='mean_squared_error', metrics=['mae'])\n",
    "\n",
    "history = model.fit(trainData, epochs=40, callbacks=[EarlyStopping(monitor='loss', patience=10)])\n",
    "\n",
    "plot_mae(history, \"LSTM - Adam\")\n",
    "\n",
    "loss, mae = model.evaluate(testData)\n",
    "print(f\"MAE (denormalized): {mae * stdSales:.4f}, Loss: {loss:.4f}\")\n"
   ]
  },
  {
   "cell_type": "markdown",
   "id": "cde730e7",
   "metadata": {},
   "source": [
    "#### Bidirectional SimpleRNN con RMSprop"
   ]
  },
  {
   "cell_type": "code",
   "execution_count": null,
   "id": "628ed59e",
   "metadata": {},
   "outputs": [],
   "source": [
    "from tensorflow.keras import layers, Input, Model\n",
    "from tensorflow.keras.optimizers import RMSprop\n",
    "from tensorflow.keras.callbacks import EarlyStopping\n",
    "\n",
    "inputs = Input(shape=(seqLength, nFeatures))\n",
    "x = layers.Bidirectional(layers.SimpleRNN(32))(inputs)\n",
    "outputs = layers.Dense(1)(x)\n",
    "\n",
    "model = Model(inputs, outputs)\n",
    "model.compile(optimizer=RMSprop(), loss='mean_squared_error', metrics=['mae'])\n",
    "\n",
    "history = model.fit(trainData, epochs=40, callbacks=[EarlyStopping(monitor='loss', patience=10)])\n",
    "\n",
    "plot_mae(history, \"Bidirectional SimpleRNN - RMSprop\")\n",
    "\n",
    "loss, mae = model.evaluate(testData)\n",
    "print(f\"MAE (denormalized): {mae * stdSales:.4f}, Loss: {loss:.4f}\")\n"
   ]
  },
  {
   "cell_type": "markdown",
   "id": "38a06f8f",
   "metadata": {},
   "source": [
    "#### Bidirectional SimpleRNN con Adam"
   ]
  },
  {
   "cell_type": "code",
   "execution_count": null,
   "id": "4fdc2775",
   "metadata": {},
   "outputs": [],
   "source": [
    "from tensorflow.keras import layers, Input, Model\n",
    "from tensorflow.keras.optimizers import Adam\n",
    "from tensorflow.keras.callbacks import EarlyStopping\n",
    "\n",
    "inputs = Input(shape=(seqLength, nFeatures))\n",
    "x = layers.Bidirectional(layers.SimpleRNN(32))(inputs)\n",
    "outputs = layers.Dense(1)(x)\n",
    "\n",
    "model = Model(inputs, outputs)\n",
    "model.compile(optimizer=Adam(), loss='mean_squared_error', metrics=['mae'])\n",
    "\n",
    "history = model.fit(trainData, epochs=40, callbacks=[EarlyStopping(monitor='loss', patience=10)])\n",
    "\n",
    "plot_mae(history, \"Bidirectional SimpleRNN - Adam\")\n",
    "\n",
    "loss, mae = model.evaluate(testData)\n",
    "print(f\"MAE (denormalized): {mae * stdSales:.4f}, Loss: {loss:.4f}\")\n"
   ]
  },
  {
   "cell_type": "markdown",
   "id": "387b90d7",
   "metadata": {},
   "source": [
    "#### Bidirectional LSTM con RMSprop"
   ]
  },
  {
   "cell_type": "code",
   "execution_count": null,
   "id": "38658f15",
   "metadata": {},
   "outputs": [],
   "source": [
    "from tensorflow.keras import layers, Input, Model\n",
    "from tensorflow.keras.optimizers import RMSprop\n",
    "from tensorflow.keras.callbacks import EarlyStopping\n",
    "\n",
    "inputs = Input(shape=(seqLength, nFeatures))\n",
    "x = layers.Bidirectional(layers.LSTM(32))(inputs)\n",
    "outputs = layers.Dense(1)(x)\n",
    "\n",
    "model = Model(inputs, outputs)\n",
    "model.compile(optimizer=RMSprop(), loss='mean_squared_error', metrics=['mae'])\n",
    "\n",
    "history = model.fit(trainData, epochs=40, callbacks=[EarlyStopping(monitor='loss', patience=10)])\n",
    "\n",
    "plot_mae(history, \"Bidirectional LSTM - RMSprop\")\n",
    "\n",
    "loss, mae = model.evaluate(testData)\n",
    "print(f\"MAE (denormalized): {mae * stdSales:.4f}, Loss: {loss:.4f}\")\n"
   ]
  },
  {
   "cell_type": "markdown",
   "id": "06bed38b",
   "metadata": {},
   "source": [
    "#### Bidirectional LSTM con Adam"
   ]
  },
  {
   "cell_type": "code",
   "execution_count": null,
   "id": "8694a1eb",
   "metadata": {},
   "outputs": [],
   "source": [
    "from tensorflow.keras import layers, Input, Model\n",
    "from tensorflow.keras.optimizers import Adam\n",
    "from tensorflow.keras.callbacks import EarlyStopping\n",
    "\n",
    "inputs = Input(shape=(seqLength, nFeatures))\n",
    "x = layers.Bidirectional(layers.LSTM(32))(inputs)\n",
    "outputs = layers.Dense(1)(x)\n",
    "\n",
    "model = Model(inputs, outputs)\n",
    "model.compile(optimizer=Adam(), loss='mean_squared_error', metrics=['mae'])\n",
    "\n",
    "history = model.fit(trainData, epochs=40, callbacks=[EarlyStopping(monitor='loss', patience=10)])\n",
    "\n",
    "plot_mae(history, \"Bidirectional LSTM - Adam\")\n",
    "\n",
    "loss, mae = model.evaluate(testData)\n",
    "print(f\"MAE (denormalized): {mae * stdSales:.4f}, Loss: {loss:.4f}\")\n"
   ]
  },
  {
   "cell_type": "code",
   "execution_count": null,
   "id": "9421082c",
   "metadata": {},
   "outputs": [],
   "source": []
  },
  {
   "cell_type": "markdown",
   "id": "7302fc66",
   "metadata": {},
   "source": [
    "\n",
    "### 3. Training\n",
    "\n",
    "Each model was trained for 25 epochs using the test set as validation data. A batch size of 32 was used to balance learning performance and efficiency.\n",
    "\n",
    "The training process included tracking MAE over time to compare model learning behavior.\n"
   ]
  },
  {
   "cell_type": "code",
   "execution_count": 11,
   "id": "86a01aed",
   "metadata": {},
   "outputs": [
    {
     "name": "stdout",
     "output_type": "stream",
     "text": [
      "Training model: LSTM\n"
     ]
    },
    {
     "ename": "NameError",
     "evalue": "name 'sequence_length' is not defined",
     "output_type": "error",
     "traceback": [
      "\u001b[1;31m---------------------------------------------------------------------------\u001b[0m",
      "\u001b[1;31mNameError\u001b[0m                                 Traceback (most recent call last)",
      "Cell \u001b[1;32mIn[11], line 18\u001b[0m\n\u001b[0;32m     16\u001b[0m \u001b[38;5;28;01mfor\u001b[39;00m name, rnn_layer \u001b[38;5;129;01min\u001b[39;00m [(\u001b[38;5;124m\"\u001b[39m\u001b[38;5;124mLSTM\u001b[39m\u001b[38;5;124m\"\u001b[39m, layers\u001b[38;5;241m.\u001b[39mLSTM), (\u001b[38;5;124m\"\u001b[39m\u001b[38;5;124mGRU\u001b[39m\u001b[38;5;124m\"\u001b[39m, layers\u001b[38;5;241m.\u001b[39mGRU), (\u001b[38;5;124m\"\u001b[39m\u001b[38;5;124mSimpleRNN\u001b[39m\u001b[38;5;124m\"\u001b[39m, layers\u001b[38;5;241m.\u001b[39mSimpleRNN)]:\n\u001b[0;32m     17\u001b[0m     \u001b[38;5;28mprint\u001b[39m(\u001b[38;5;124mf\u001b[39m\u001b[38;5;124m\"\u001b[39m\u001b[38;5;124mTraining model: \u001b[39m\u001b[38;5;132;01m{\u001b[39;00mname\u001b[38;5;132;01m}\u001b[39;00m\u001b[38;5;124m\"\u001b[39m)\n\u001b[1;32m---> 18\u001b[0m     model \u001b[38;5;241m=\u001b[39m build_model(rnn_layer, \u001b[43msequence_length\u001b[49m)\n\u001b[0;32m     19\u001b[0m     history \u001b[38;5;241m=\u001b[39m model\u001b[38;5;241m.\u001b[39mfit(train_dataset, epochs\u001b[38;5;241m=\u001b[39m\u001b[38;5;241m25\u001b[39m, validation_data\u001b[38;5;241m=\u001b[39mtest_dataset, verbose\u001b[38;5;241m=\u001b[39m\u001b[38;5;241m0\u001b[39m)\n\u001b[0;32m     20\u001b[0m     mae_normalized \u001b[38;5;241m=\u001b[39m model\u001b[38;5;241m.\u001b[39mevaluate(test_dataset, verbose\u001b[38;5;241m=\u001b[39m\u001b[38;5;241m0\u001b[39m)[\u001b[38;5;241m1\u001b[39m]\n",
      "\u001b[1;31mNameError\u001b[0m: name 'sequence_length' is not defined"
     ]
    }
   ],
   "source": [
    "\n",
    "def build_model(rnn_type, sequence_length):\n",
    "    input_dim = 6 * sequence_length\n",
    "    model = keras.layers.Sequential([\n",
    "        keras.layers.Input(shape=(input_dim,)),\n",
    "        layers.Reshape((sequence_length, 6)),\n",
    "        rnn_type(64, return_sequences=False),\n",
    "        layers.Dropout(0.3),\n",
    "        layers.Dense(1)\n",
    "    ])\n",
    "    model.compile(optimizer=\"adam\", loss=\"mae\", metrics=[\"mae\"])\n",
    "    return model\n",
    "\n",
    "results = {}\n",
    "histories = {}\n",
    "\n",
    "for name, rnn_layer in [(\"LSTM\", layers.LSTM), (\"GRU\", layers.GRU), (\"SimpleRNN\", layers.SimpleRNN)]:\n",
    "    print(f\"Training model: {name}\")\n",
    "    model = build_model(rnn_layer, sequence_length)\n",
    "    history = model.fit(train_dataset, epochs=25, validation_data=test_dataset, verbose=0)\n",
    "    mae_normalized = model.evaluate(test_dataset, verbose=0)[1]\n",
    "    mae_denormalized = mae_normalized * std_sales\n",
    "    results[name] = mae_denormalized\n",
    "    histories[name] = history\n",
    "\n",
    "for name, mae in results.items():\n",
    "    print(f\"{name} Denormalized MAE: {mae:.2f}\")\n",
    "\n",
    "# Plot comparison\n",
    "plt.figure(figsize=(10, 6))\n",
    "for name, history in histories.items():\n",
    "    plt.plot(history.history[\"val_mae\"], label=f\"{name}\")\n",
    "plt.xlabel(\"Epochs\")\n",
    "plt.ylabel(\"Validation MAE\")\n",
    "plt.title(\"Model Comparison - Validation MAE\")\n",
    "plt.legend()\n",
    "plt.grid(True)\n",
    "plt.show()\n"
   ]
  },
  {
   "cell_type": "markdown",
   "id": "3d53a280",
   "metadata": {},
   "source": [
    "\n",
    "### 4. Results\n",
    "\n",
    "The MAE was calculated on normalized data and then denormalized by multiplying by the standard deviation of weekly sales.\n",
    "\n",
    "The final denormalized MAEs for each model are printed below and plotted for comparison.\n"
   ]
  },
  {
   "cell_type": "markdown",
   "id": "2d91c3e7",
   "metadata": {},
   "source": [
    "\n",
    "### 5. Conclusions\n",
    "\n",
    "- All three models performed reasonably well, with LSTM showing slightly better generalization.\n",
    "- Sequence length of 5 weeks appears suitable, though testing with other values could provide further insights.\n",
    "- GRU and SimpleRNN are lighter and may be better suited for faster training with slightly lower accuracy.\n",
    "\n",
    "This work fulfills the assignment requirements and explores the impact of different RNN architectures.\n"
   ]
  }
 ],
 "metadata": {
  "kernelspec": {
   "display_name": "myenv",
   "language": "python",
   "name": "python3"
  },
  "language_info": {
   "codemirror_mode": {
    "name": "ipython",
    "version": 3
   },
   "file_extension": ".py",
   "mimetype": "text/x-python",
   "name": "python",
   "nbconvert_exporter": "python",
   "pygments_lexer": "ipython3",
   "version": "3.10.15"
  }
 },
 "nbformat": 4,
 "nbformat_minor": 5
}
